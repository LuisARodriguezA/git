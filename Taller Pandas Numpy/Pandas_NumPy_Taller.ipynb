{
  "cells": [
    {
      "cell_type": "markdown",
      "metadata": {
        "id": "hpMJTcbUfijY"
      },
      "source": [
        "#PROGRAMACIÓN DE COMPUTADORES - GRUPO 9\n",
        "##Taller Pandas + Geopandas\n",
        "\n",
        "\n"
      ]
    },
    {
      "cell_type": "markdown",
      "metadata": {
        "id": "781le7ZkX9SX"
      },
      "source": [
        "###**Indicaciones:** Responda las siguientes preguntas, se debe desarrollar según los grupos definidos para el proyecto final. El taller se debe enviar el día de mañana 15-11-2023 antes de media noche.\n",
        "\n",
        "(Enviar en un archivo comprimido el desarrollo del taller con sus respectivas salidas, un correo por grupo!)\n"
      ]
    },
    {
      "cell_type": "markdown",
      "metadata": {
        "id": "lDgp3SOLYFW-"
      },
      "source": [
        "A partir de los datos de la API https://jsonplaceholder.typicode.com/users, responda:\n"
      ]
    },
    {
      "cell_type": "code",
      "execution_count": 1,
      "metadata": {
        "id": "4bLeShSjZU1w"
      },
      "outputs": [
        {
          "name": "stdout",
          "output_type": "stream",
          "text": [
            "Requirement already satisfied: pandas in c:\\users\\aleja\\appdata\\local\\programs\\python\\python312\\lib\\site-packages (2.1.2)\n",
            "Requirement already satisfied: numpy<2,>=1.26.0 in c:\\users\\aleja\\appdata\\local\\programs\\python\\python312\\lib\\site-packages (from pandas) (1.26.1)\n",
            "Requirement already satisfied: python-dateutil>=2.8.2 in c:\\users\\aleja\\appdata\\local\\programs\\python\\python312\\lib\\site-packages (from pandas) (2.8.2)\n",
            "Requirement already satisfied: pytz>=2020.1 in c:\\users\\aleja\\appdata\\local\\programs\\python\\python312\\lib\\site-packages (from pandas) (2023.3.post1)\n",
            "Requirement already satisfied: tzdata>=2022.1 in c:\\users\\aleja\\appdata\\local\\programs\\python\\python312\\lib\\site-packages (from pandas) (2023.3)\n",
            "Requirement already satisfied: six>=1.5 in c:\\users\\aleja\\appdata\\local\\programs\\python\\python312\\lib\\site-packages (from python-dateutil>=2.8.2->pandas) (1.16.0)\n",
            "Requirement already satisfied: numpy in c:\\users\\aleja\\appdata\\local\\programs\\python\\python312\\lib\\site-packages (1.26.1)\n",
            "Requirement already satisfied: geopandas in c:\\users\\aleja\\appdata\\local\\programs\\python\\python312\\lib\\site-packages (0.14.1)\n",
            "Requirement already satisfied: fiona>=1.8.21 in c:\\users\\aleja\\appdata\\local\\programs\\python\\python312\\lib\\site-packages (from geopandas) (1.9.5)\n",
            "Requirement already satisfied: packaging in c:\\users\\aleja\\appdata\\local\\programs\\python\\python312\\lib\\site-packages (from geopandas) (23.2)\n",
            "Requirement already satisfied: pandas>=1.4.0 in c:\\users\\aleja\\appdata\\local\\programs\\python\\python312\\lib\\site-packages (from geopandas) (2.1.2)\n",
            "Requirement already satisfied: pyproj>=3.3.0 in c:\\users\\aleja\\appdata\\local\\programs\\python\\python312\\lib\\site-packages (from geopandas) (3.6.1)\n",
            "Requirement already satisfied: shapely>=1.8.0 in c:\\users\\aleja\\appdata\\local\\programs\\python\\python312\\lib\\site-packages (from geopandas) (2.0.2)\n",
            "Requirement already satisfied: attrs>=19.2.0 in c:\\users\\aleja\\appdata\\local\\programs\\python\\python312\\lib\\site-packages (from fiona>=1.8.21->geopandas) (23.1.0)\n",
            "Requirement already satisfied: certifi in c:\\users\\aleja\\appdata\\local\\programs\\python\\python312\\lib\\site-packages (from fiona>=1.8.21->geopandas) (2023.7.22)\n",
            "Requirement already satisfied: click~=8.0 in c:\\users\\aleja\\appdata\\local\\programs\\python\\python312\\lib\\site-packages (from fiona>=1.8.21->geopandas) (8.1.7)\n",
            "Requirement already satisfied: click-plugins>=1.0 in c:\\users\\aleja\\appdata\\local\\programs\\python\\python312\\lib\\site-packages (from fiona>=1.8.21->geopandas) (1.1.1)\n",
            "Requirement already satisfied: cligj>=0.5 in c:\\users\\aleja\\appdata\\local\\programs\\python\\python312\\lib\\site-packages (from fiona>=1.8.21->geopandas) (0.7.2)\n",
            "Requirement already satisfied: six in c:\\users\\aleja\\appdata\\local\\programs\\python\\python312\\lib\\site-packages (from fiona>=1.8.21->geopandas) (1.16.0)\n",
            "Requirement already satisfied: setuptools in c:\\users\\aleja\\appdata\\local\\programs\\python\\python312\\lib\\site-packages (from fiona>=1.8.21->geopandas) (68.2.2)\n",
            "Requirement already satisfied: numpy<2,>=1.26.0 in c:\\users\\aleja\\appdata\\local\\programs\\python\\python312\\lib\\site-packages (from pandas>=1.4.0->geopandas) (1.26.1)\n",
            "Requirement already satisfied: python-dateutil>=2.8.2 in c:\\users\\aleja\\appdata\\local\\programs\\python\\python312\\lib\\site-packages (from pandas>=1.4.0->geopandas) (2.8.2)\n",
            "Requirement already satisfied: pytz>=2020.1 in c:\\users\\aleja\\appdata\\local\\programs\\python\\python312\\lib\\site-packages (from pandas>=1.4.0->geopandas) (2023.3.post1)\n",
            "Requirement already satisfied: tzdata>=2022.1 in c:\\users\\aleja\\appdata\\local\\programs\\python\\python312\\lib\\site-packages (from pandas>=1.4.0->geopandas) (2023.3)\n",
            "Requirement already satisfied: colorama in c:\\users\\aleja\\appdata\\local\\programs\\python\\python312\\lib\\site-packages (from click~=8.0->fiona>=1.8.21->geopandas) (0.4.6)\n",
            "Requirement already satisfied: requests in c:\\users\\aleja\\appdata\\local\\programs\\python\\python312\\lib\\site-packages (2.31.0)\n",
            "Requirement already satisfied: charset-normalizer<4,>=2 in c:\\users\\aleja\\appdata\\local\\programs\\python\\python312\\lib\\site-packages (from requests) (3.3.0)\n",
            "Requirement already satisfied: idna<4,>=2.5 in c:\\users\\aleja\\appdata\\local\\programs\\python\\python312\\lib\\site-packages (from requests) (3.4)\n",
            "Requirement already satisfied: urllib3<3,>=1.21.1 in c:\\users\\aleja\\appdata\\local\\programs\\python\\python312\\lib\\site-packages (from requests) (2.0.6)\n",
            "Requirement already satisfied: certifi>=2017.4.17 in c:\\users\\aleja\\appdata\\local\\programs\\python\\python312\\lib\\site-packages (from requests) (2023.7.22)\n"
          ]
        }
      ],
      "source": [
        "!pip install pandas\n",
        "!pip install numpy\n",
        "!pip install geopandas\n",
        "!pip install requests"
      ]
    },
    {
      "cell_type": "code",
      "execution_count": 2,
      "metadata": {
        "id": "snrplZqbZS9G"
      },
      "outputs": [],
      "source": [
        "import pandas as pd\n",
        "import numpy as np\n",
        "import geopandas as gpd\n",
        "import requests\n",
        "from shapely.geometry import Point"
      ]
    },
    {
      "cell_type": "code",
      "execution_count": 3,
      "metadata": {
        "id": "j9eGXjjeZeUY"
      },
      "outputs": [],
      "source": [
        "api_url = 'https://jsonplaceholder.typicode.com/users'\n",
        "response = requests.get(api_url)\n",
        "data = response.json()"
      ]
    },
    {
      "cell_type": "markdown",
      "metadata": {
        "id": "4DUkl51cYfq9"
      },
      "source": [
        "0.  ¿Cuántos usuarios hay en el conjunto de datos?"
      ]
    },
    {
      "cell_type": "code",
      "execution_count": 164,
      "metadata": {},
      "outputs": [
        {
          "data": {
            "text/plain": [
              "10"
            ]
          },
          "execution_count": 164,
          "metadata": {},
          "output_type": "execute_result"
        }
      ],
      "source": [
        "len(data)"
      ]
    },
    {
      "cell_type": "markdown",
      "metadata": {
        "id": "BQgjqDH3YZJr"
      },
      "source": [
        "1. Encuentre el usuario con el nombre más largo."
      ]
    },
    {
      "cell_type": "code",
      "execution_count": 165,
      "metadata": {},
      "outputs": [
        {
          "data": {
            "text/plain": [
              "'Nicholas Runolfsdottir V'"
            ]
          },
          "execution_count": 165,
          "metadata": {},
          "output_type": "execute_result"
        }
      ],
      "source": [
        "list=[data[x]['name'] for x in range(len(data))]\n",
        "\n",
        "max(list,key=len)"
      ]
    },
    {
      "cell_type": "markdown",
      "metadata": {
        "id": "uMMte3LIhD8W"
      },
      "source": [
        "2. Encuentre el usuario con el nombre más corto."
      ]
    },
    {
      "cell_type": "code",
      "execution_count": 166,
      "metadata": {},
      "outputs": [
        {
          "data": {
            "text/plain": [
              "'Ervin Howell'"
            ]
          },
          "execution_count": 166,
          "metadata": {},
          "output_type": "execute_result"
        }
      ],
      "source": [
        "list=[data[x]['name'] for x in range(len(data))]\n",
        "\n",
        "min(list,key=len)"
      ]
    },
    {
      "cell_type": "markdown",
      "metadata": {
        "id": "gAI5zXYgYn73"
      },
      "source": [
        "3. ¿Cuál es la edad promedio de los usuarios?"
      ]
    },
    {
      "cell_type": "code",
      "execution_count": 167,
      "metadata": {},
      "outputs": [],
      "source": [
        "# No hay edad en el json"
      ]
    },
    {
      "cell_type": "markdown",
      "metadata": {
        "id": "tjkVDrgqYuZQ"
      },
      "source": [
        "4. Cree un DataFrame con solo los usuarios que tienen 'S' en la inicial del campo compañía."
      ]
    },
    {
      "cell_type": "code",
      "execution_count": 168,
      "metadata": {},
      "outputs": [],
      "source": [
        "# No hay usuarios que tienen 'S' en la inicial del campo compañia"
      ]
    },
    {
      "cell_type": "markdown",
      "metadata": {
        "id": "ellXJnF7Yy1j"
      },
      "source": [
        "5. Cree un nuevo DataFrame con información de ubicación para los usuarios que tienen registro de (latitud y longitud)."
      ]
    },
    {
      "cell_type": "code",
      "execution_count": 4,
      "metadata": {},
      "outputs": [
        {
          "data": {
            "text/html": [
              "<div>\n",
              "<style scoped>\n",
              "    .dataframe tbody tr th:only-of-type {\n",
              "        vertical-align: middle;\n",
              "    }\n",
              "\n",
              "    .dataframe tbody tr th {\n",
              "        vertical-align: top;\n",
              "    }\n",
              "\n",
              "    .dataframe thead th {\n",
              "        text-align: right;\n",
              "    }\n",
              "</style>\n",
              "<table border=\"1\" class=\"dataframe\">\n",
              "  <thead>\n",
              "    <tr style=\"text-align: right;\">\n",
              "      <th></th>\n",
              "      <th>name</th>\n",
              "      <th>lat</th>\n",
              "      <th>lng</th>\n",
              "    </tr>\n",
              "  </thead>\n",
              "  <tbody>\n",
              "    <tr>\n",
              "      <th>0</th>\n",
              "      <td>Leanne Graham</td>\n",
              "      <td>-37.3159</td>\n",
              "      <td>81.1496</td>\n",
              "    </tr>\n",
              "    <tr>\n",
              "      <th>1</th>\n",
              "      <td>Ervin Howell</td>\n",
              "      <td>-43.9509</td>\n",
              "      <td>-34.4618</td>\n",
              "    </tr>\n",
              "    <tr>\n",
              "      <th>2</th>\n",
              "      <td>Clementine Bauch</td>\n",
              "      <td>-68.6102</td>\n",
              "      <td>-47.0653</td>\n",
              "    </tr>\n",
              "    <tr>\n",
              "      <th>3</th>\n",
              "      <td>Patricia Lebsack</td>\n",
              "      <td>29.4572</td>\n",
              "      <td>-164.2990</td>\n",
              "    </tr>\n",
              "    <tr>\n",
              "      <th>4</th>\n",
              "      <td>Chelsey Dietrich</td>\n",
              "      <td>-31.8129</td>\n",
              "      <td>62.5342</td>\n",
              "    </tr>\n",
              "    <tr>\n",
              "      <th>5</th>\n",
              "      <td>Mrs. Dennis Schulist</td>\n",
              "      <td>-71.4197</td>\n",
              "      <td>71.7478</td>\n",
              "    </tr>\n",
              "    <tr>\n",
              "      <th>6</th>\n",
              "      <td>Kurtis Weissnat</td>\n",
              "      <td>24.8918</td>\n",
              "      <td>21.8984</td>\n",
              "    </tr>\n",
              "    <tr>\n",
              "      <th>7</th>\n",
              "      <td>Nicholas Runolfsdottir V</td>\n",
              "      <td>-14.3990</td>\n",
              "      <td>-120.7677</td>\n",
              "    </tr>\n",
              "    <tr>\n",
              "      <th>8</th>\n",
              "      <td>Glenna Reichert</td>\n",
              "      <td>24.6463</td>\n",
              "      <td>-168.8889</td>\n",
              "    </tr>\n",
              "    <tr>\n",
              "      <th>9</th>\n",
              "      <td>Clementina DuBuque</td>\n",
              "      <td>-38.2386</td>\n",
              "      <td>57.2232</td>\n",
              "    </tr>\n",
              "  </tbody>\n",
              "</table>\n",
              "</div>"
            ],
            "text/plain": [
              "                       name       lat        lng\n",
              "0             Leanne Graham  -37.3159    81.1496\n",
              "1              Ervin Howell  -43.9509   -34.4618\n",
              "2          Clementine Bauch  -68.6102   -47.0653\n",
              "3          Patricia Lebsack   29.4572  -164.2990\n",
              "4          Chelsey Dietrich  -31.8129    62.5342\n",
              "5      Mrs. Dennis Schulist  -71.4197    71.7478\n",
              "6           Kurtis Weissnat   24.8918    21.8984\n",
              "7  Nicholas Runolfsdottir V  -14.3990  -120.7677\n",
              "8           Glenna Reichert   24.6463  -168.8889\n",
              "9        Clementina DuBuque  -38.2386    57.2232"
            ]
          },
          "execution_count": 4,
          "metadata": {},
          "output_type": "execute_result"
        }
      ],
      "source": [
        "df = pd.DataFrame([[data[x]['name'],data[x]['address']['geo']['lat'],data[x]['address']['geo']['lng']] for x in range(len(data))],range(len(data)),['name','lat','lng'])\n",
        "\n",
        "df"
      ]
    },
    {
      "cell_type": "markdown",
      "metadata": {
        "id": "AfDI1wc6Y5w2"
      },
      "source": [
        "6. Convierta el DataFrame de ubicación a un GeoDataFrame."
      ]
    },
    {
      "cell_type": "code",
      "execution_count": 102,
      "metadata": {},
      "outputs": [
        {
          "name": "stdout",
          "output_type": "stream",
          "text": [
            "               name       lat        lng                     geometry\n",
            "0     Leanne Graham  -37.3159    81.1496   POINT (-37.31590 81.14960)\n",
            "1      Ervin Howell  -43.9509   -34.4618  POINT (-43.95090 -34.46180)\n",
            "2  Clementine Bauch  -68.6102   -47.0653  POINT (-68.61020 -47.06530)\n",
            "3  Patricia Lebsack   29.4572  -164.2990  POINT (29.45720 -164.29900)\n",
            "4  Chelsey Dietrich  -31.8129    62.5342   POINT (-31.81290 62.53420)\n"
          ]
        }
      ],
      "source": [
        "gdf = gpd.GeoDataFrame(df, geometry=gpd.points_from_xy(df.lat, df.lng), crs=\"EPSG:4326\")\n",
        "\n",
        "print(gdf.head())"
      ]
    },
    {
      "cell_type": "markdown",
      "metadata": {
        "id": "Fs7ZdNx7ZAF9"
      },
      "source": [
        "7. Guarde el GeoDataFrame en un archivo Shapefile llamado 'ubicacion_usuarios'."
      ]
    },
    {
      "cell_type": "code",
      "execution_count": 6,
      "metadata": {},
      "outputs": [],
      "source": [
        "gdf.to_file('ubicacion_usuariosdataframe.shp') "
      ]
    },
    {
      "cell_type": "markdown",
      "metadata": {
        "id": "ZUmUm35rZIb4"
      },
      "source": [
        "8. Calcule la distancia promedio entre todos los usuarios utilizando la información de ubicación."
      ]
    },
    {
      "cell_type": "code",
      "execution_count": 104,
      "metadata": {},
      "outputs": [
        {
          "name": "stdout",
          "output_type": "stream",
          "text": [
            "Distancia promedio: 116.05800664569558\n"
          ]
        },
        {
          "name": "stderr",
          "output_type": "stream",
          "text": [
            "C:\\Users\\aleja\\AppData\\Local\\Temp\\ipykernel_21768\\2897664365.py:1: UserWarning: Geometry is in a geographic CRS. Results from 'distance' are likely incorrect. Use 'GeoSeries.to_crs()' to re-project geometries to a projected CRS before this operation.\n",
            "\n",
            "  mean = np.mean(np.array([(gdf.geometry.distance(x)).mean() for x in gdf.geometry]))\n"
          ]
        }
      ],
      "source": [
        "mean = np.mean(np.array([(gdf.geometry.distance(x)).mean() for x in gdf.geometry]))\n",
        "print(f'Distancia promedio: {mean}')"
      ]
    },
    {
      "cell_type": "markdown",
      "metadata": {
        "id": "HIx13RWQZM9A"
      },
      "source": [
        "9. Encuentre el usuario más cercano a un punto de referencia (latitud=0, longitud=0)."
      ]
    }
  ],
  "metadata": {
    "colab": {
      "provenance": []
    },
    "kernelspec": {
      "display_name": "Python 3",
      "name": "python3"
    },
    "language_info": {
      "codemirror_mode": {
        "name": "ipython",
        "version": 3
      },
      "file_extension": ".py",
      "mimetype": "text/x-python",
      "name": "python",
      "nbconvert_exporter": "python",
      "pygments_lexer": "ipython3",
      "version": "3.12.0"
    }
  },
  "nbformat": 4,
  "nbformat_minor": 0
}
